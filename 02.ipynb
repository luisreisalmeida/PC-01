{
  "nbformat": 4,
  "nbformat_minor": 0,
  "metadata": {
    "colab": {
      "name": "02.ipynb",
      "version": "0.3.2",
      "provenance": [],
      "include_colab_link": true
    },
    "language_info": {
      "codemirror_mode": {
        "name": "ipython",
        "version": 3
      },
      "file_extension": ".py",
      "mimetype": "text/x-python",
      "name": "python",
      "nbconvert_exporter": "python",
      "pygments_lexer": "ipython3",
      "version": "3.6.7"
    },
    "kernelspec": {
      "display_name": "Python 3",
      "language": "python",
      "name": "python3"
    }
  },
  "cells": [
    {
      "cell_type": "markdown",
      "metadata": {
        "id": "view-in-github",
        "colab_type": "text"
      },
      "source": [
        "<a href=\"https://colab.research.google.com/github/luisreisalmeida/PC-01/blob/master/02.ipynb\" target=\"_parent\"><img src=\"https://colab.research.google.com/assets/colab-badge.svg\" alt=\"Open In Colab\"/></a>"
      ]
    },
    {
      "cell_type": "markdown",
      "metadata": {
        "id": "B60BX5SwWttG",
        "colab_type": "text"
      },
      "source": [
        "<small><small><i>\n",
        "Este notebook foi baseado nos notebooks disponíveis em [https://gitlab.erc.monash.edu.au/andrease/Python4Maths.git]\n",
        "</i></small></small>"
      ]
    },
    {
      "cell_type": "markdown",
      "metadata": {
        "id": "yjf27lWlWttH",
        "colab_type": "text"
      },
      "source": [
        "# Comparando e decidindo\n",
        "\n",
        "Python permite comparar os valores associados a diferentes variáveis usando **operadores de comparação**. \n",
        "\n",
        "Expressões que contêm operadores de comparação são chamadas **expressões lógicas** e podem ser usadas em **estruturas de decisão** para decidir o que o seu código deve fazer. \n",
        "\n",
        "Neste roteiro, você aprenderá a utilizar estes conceitos da linguagem Python.\n",
        "\n",
        "## Operadores de comparação\n",
        "\n",
        "Operadores de comparação são utilizados para construir **expressões lógicas**. \n",
        "\n",
        "As regras básicas sobre expressões lógicas em Python são:\n",
        "\n",
        "* Expressões lógicas são avaliadas como verdadeiras (**True**) ou falsas (**False**).\n",
        "* Todos os operadores de comparação em Python têm precedência igual. \n",
        "* Assim como em expressões aritméticas, é possível usar parênteses para mudar a ordem de avaliação de uma expressão.\n",
        "* Caso haja empate de precedência, a expressão é avaliada da esquerda para a direita.\n",
        "\n",
        "Alguns dos operadores de comparação disponíveis em Python estão listados abaixo. "
      ]
    },
    {
      "cell_type": "markdown",
      "metadata": {
        "id": "-EIyLQ7EWttI",
        "colab_type": "text"
      },
      "source": [
        "| Símbolo | Significado |\n",
        "|:----:|---|\n",
        "| == | Igualdade |\n",
        "| !=  | Diferença |\n",
        "| < | Menor |\n",
        "| > | Maior |\n",
        "| <=  | Menor ou igual |\n",
        "| >=  | Maior ou igual |\n",
        "\n",
        "Note que é diferente usar `==` (comparação de igualdade) e `=` (associação de variável a valor)."
      ]
    },
    {
      "cell_type": "code",
      "metadata": {
        "id": "Gv2o3ZyNWttJ",
        "colab_type": "code",
        "outputId": "5d7b5bb0-ed58-4e61-f115-1d47262a32a6",
        "colab": {
          "base_uri": "https://localhost:8080/",
          "height": 34
        }
      },
      "source": [
        "z = 2\n",
        "z == 2"
      ],
      "execution_count": 78,
      "outputs": [
        {
          "output_type": "execute_result",
          "data": {
            "text/plain": [
              "True"
            ]
          },
          "metadata": {
            "tags": []
          },
          "execution_count": 78
        }
      ]
    },
    {
      "cell_type": "code",
      "metadata": {
        "id": "bxnOe3lPWttM",
        "colab_type": "code",
        "outputId": "77a569a7-3317-4698-e446-9d1b5eadffb0",
        "colab": {
          "base_uri": "https://localhost:8080/",
          "height": 34
        }
      },
      "source": [
        "z > 2"
      ],
      "execution_count": 79,
      "outputs": [
        {
          "output_type": "execute_result",
          "data": {
            "text/plain": [
              "False"
            ]
          },
          "metadata": {
            "tags": []
          },
          "execution_count": 79
        }
      ]
    },
    {
      "cell_type": "code",
      "metadata": {
        "id": "iLLQy-0BWttO",
        "colab_type": "code",
        "outputId": "9099fa3e-d6bb-423f-c8c7-8053b3d06b2a",
        "colab": {
          "base_uri": "https://localhost:8080/",
          "height": 34
        }
      },
      "source": [
        "z <= 2"
      ],
      "execution_count": 80,
      "outputs": [
        {
          "output_type": "execute_result",
          "data": {
            "text/plain": [
              "True"
            ]
          },
          "metadata": {
            "tags": []
          },
          "execution_count": 80
        }
      ]
    },
    {
      "cell_type": "code",
      "metadata": {
        "scrolled": true,
        "id": "cS4BxOwSWttQ",
        "colab_type": "code",
        "outputId": "ea533e27-78ed-485b-efd5-e9ad10290f74",
        "colab": {
          "base_uri": "https://localhost:8080/",
          "height": 34
        }
      },
      "source": [
        "z != 2"
      ],
      "execution_count": 81,
      "outputs": [
        {
          "output_type": "execute_result",
          "data": {
            "text/plain": [
              "False"
            ]
          },
          "metadata": {
            "tags": []
          },
          "execution_count": 81
        }
      ]
    },
    {
      "cell_type": "markdown",
      "metadata": {
        "id": "y-u7Q_4qWttS",
        "colab_type": "text"
      },
      "source": [
        "### Exercícios de fixação"
      ]
    },
    {
      "cell_type": "markdown",
      "metadata": {
        "id": "EI4pn_oWWttT",
        "colab_type": "text"
      },
      "source": [
        "1 - Leia dois números inteiros e teste se o primeiro é menor do que o segundo."
      ]
    },
    {
      "cell_type": "code",
      "metadata": {
        "id": "z4CCG7H-WttT",
        "colab_type": "code",
        "outputId": "4d68f59a-a227-4874-8edf-3f97e0e64c77",
        "colab": {
          "base_uri": "https://localhost:8080/",
          "height": 34
        }
      },
      "source": [
        "a = 1\n",
        "b = 3\n",
        "a < b"
      ],
      "execution_count": 82,
      "outputs": [
        {
          "output_type": "execute_result",
          "data": {
            "text/plain": [
              "True"
            ]
          },
          "metadata": {
            "tags": []
          },
          "execution_count": 82
        }
      ]
    },
    {
      "cell_type": "markdown",
      "metadata": {
        "id": "wvKPhLntWttW",
        "colab_type": "text"
      },
      "source": [
        "2 - Sorteie dois números e teste se ambos são iguais.\n",
        "\n",
        "**Dica --** O procedimento **randint**(*menor*, *maior*) sorteia inteiros no intervalo entre menor e maior. Este procedimento não é um procedimento nativo do Python, por isso precisamos importá-lo do módulo **random**, que o fornece."
      ]
    },
    {
      "cell_type": "code",
      "metadata": {
        "scrolled": true,
        "id": "YAJoF5F8WttX",
        "colab_type": "code",
        "outputId": "287476c9-fb6f-4ab0-dd10-f64f1973c26c",
        "colab": {
          "base_uri": "https://localhost:8080/",
          "height": 34
        }
      },
      "source": [
        "from random import randint\n",
        "randint(0,100)"
      ],
      "execution_count": 83,
      "outputs": [
        {
          "output_type": "execute_result",
          "data": {
            "text/plain": [
              "27"
            ]
          },
          "metadata": {
            "tags": []
          },
          "execution_count": 83
        }
      ]
    },
    {
      "cell_type": "markdown",
      "metadata": {
        "id": "uKnYiDJ-WttZ",
        "colab_type": "text"
      },
      "source": [
        "### Comparando textos"
      ]
    },
    {
      "cell_type": "markdown",
      "metadata": {
        "id": "f4a50217WttZ",
        "colab_type": "text"
      },
      "source": [
        "Também é possível utilizar operadores de comparação para comparar textos:\n",
        "* A igualdade (==) e a diferença (!=) funcionam de forma trivial, assim como no caso dos valores numéricos.\n",
        "* As demais operações consideram a ordem alfabética.\n"
      ]
    },
    {
      "cell_type": "code",
      "metadata": {
        "id": "MZWsoxKNWtta",
        "colab_type": "code",
        "outputId": "761cd357-594c-4e7a-fa9f-015528dfec4c",
        "colab": {
          "base_uri": "https://localhost:8080/",
          "height": 34
        }
      },
      "source": [
        "nome = \"Stevejobsson\"\n",
        "nome == \"Stevejobsson\""
      ],
      "execution_count": 84,
      "outputs": [
        {
          "output_type": "execute_result",
          "data": {
            "text/plain": [
              "True"
            ]
          },
          "metadata": {
            "tags": []
          },
          "execution_count": 84
        }
      ]
    },
    {
      "cell_type": "code",
      "metadata": {
        "id": "eos37lj0Wttd",
        "colab_type": "code",
        "outputId": "8630c1a3-6191-41f8-f423-3c0b90402c51",
        "colab": {
          "base_uri": "https://localhost:8080/",
          "height": 34
        }
      },
      "source": [
        "nome != \"Facebookson\""
      ],
      "execution_count": 85,
      "outputs": [
        {
          "output_type": "execute_result",
          "data": {
            "text/plain": [
              "True"
            ]
          },
          "metadata": {
            "tags": []
          },
          "execution_count": 85
        }
      ]
    },
    {
      "cell_type": "code",
      "metadata": {
        "id": "7zpcNvLrWttf",
        "colab_type": "code",
        "outputId": "1ccca8aa-daa9-4ed8-a3a6-2d3f9da67930",
        "colab": {
          "base_uri": "https://localhost:8080/",
          "height": 34
        }
      },
      "source": [
        "'abc' < 'bbc'"
      ],
      "execution_count": 86,
      "outputs": [
        {
          "output_type": "execute_result",
          "data": {
            "text/plain": [
              "True"
            ]
          },
          "metadata": {
            "tags": []
          },
          "execution_count": 86
        }
      ]
    },
    {
      "cell_type": "code",
      "metadata": {
        "id": "8r8BjOnIWtti",
        "colab_type": "code",
        "outputId": "028f7dad-051f-47aa-9b92-b16f9f3115e5",
        "colab": {
          "base_uri": "https://localhost:8080/",
          "height": 34
        }
      },
      "source": [
        "'bbc' <= 'bbc'"
      ],
      "execution_count": 87,
      "outputs": [
        {
          "output_type": "execute_result",
          "data": {
            "text/plain": [
              "True"
            ]
          },
          "metadata": {
            "tags": []
          },
          "execution_count": 87
        }
      ]
    },
    {
      "cell_type": "code",
      "metadata": {
        "id": "1-Vxgn9vWttk",
        "colab_type": "code",
        "outputId": "f97f4507-854c-4a3f-d815-56e4bef20242",
        "colab": {
          "base_uri": "https://localhost:8080/",
          "height": 34
        }
      },
      "source": [
        "'bbc' <= 'bac'"
      ],
      "execution_count": 88,
      "outputs": [
        {
          "output_type": "execute_result",
          "data": {
            "text/plain": [
              "False"
            ]
          },
          "metadata": {
            "tags": []
          },
          "execution_count": 88
        }
      ]
    },
    {
      "cell_type": "markdown",
      "metadata": {
        "id": "Z6OGndyhWttl",
        "colab_type": "text"
      },
      "source": [
        "### Exercícios de fixação"
      ]
    },
    {
      "cell_type": "markdown",
      "metadata": {
        "id": "EEfHYLOSWttm",
        "colab_type": "text"
      },
      "source": [
        "3 - Leia dois nomes e teste se o primeiro é anterior ao segundo considerando a ordem alfabética."
      ]
    },
    {
      "cell_type": "code",
      "metadata": {
        "id": "y46sE_swWttn",
        "colab_type": "code",
        "outputId": "98a260ab-1ec3-4c46-9057-b253d9336604",
        "colab": {
          "base_uri": "https://localhost:8080/",
          "height": 34
        }
      },
      "source": [
        "a = 'João'\n",
        "b = 'Maria'\n",
        "a < b"
      ],
      "execution_count": 89,
      "outputs": [
        {
          "output_type": "execute_result",
          "data": {
            "text/plain": [
              "True"
            ]
          },
          "metadata": {
            "tags": []
          },
          "execution_count": 89
        }
      ]
    },
    {
      "cell_type": "markdown",
      "metadata": {
        "id": "VIZreLUDWttq",
        "colab_type": "text"
      },
      "source": [
        "4 - Teste se os textos \"Python\" e \"python\" são considerados idênticos."
      ]
    },
    {
      "cell_type": "code",
      "metadata": {
        "id": "25ya-hdJWttq",
        "colab_type": "code",
        "outputId": "9e15a268-f275-4793-cd17-ab1025e95b53",
        "colab": {
          "base_uri": "https://localhost:8080/",
          "height": 34
        }
      },
      "source": [
        "a = 'Python'\n",
        "b = 'python'\n",
        "a == b"
      ],
      "execution_count": 0,
      "outputs": [
        {
          "output_type": "execute_result",
          "data": {
            "text/plain": [
              "False"
            ]
          },
          "metadata": {
            "tags": []
          },
          "execution_count": 14
        }
      ]
    },
    {
      "cell_type": "markdown",
      "metadata": {
        "id": "um99LbQ_Wtts",
        "colab_type": "text"
      },
      "source": [
        "## Operadores lógicos"
      ]
    },
    {
      "cell_type": "markdown",
      "metadata": {
        "id": "MqpL3qgBWttt",
        "colab_type": "text"
      },
      "source": [
        "É possível criar expressões lógicas mais complexas utilizando **operadores lógicos**.\n",
        "\n",
        "Os operadores lógicos mais simples do Python são os operadores E (**and**) e OU (**or**).\n",
        "\n",
        "As regras básicas sobre expressões que contenham operadores lógicos em Python são:\n",
        "\n",
        "* Operadores de comparação têm maior precedência que operadores lógicos.\n",
        "* O operador lógico **and** tem maior precedência que o operador **or**. \n",
        "* É possível usar parênteses para mudar a ordem de avaliação de uma expressão.\n",
        "* Caso reste apenas operações de mesma precedência, a expressão passa a ser avaliada da esquerda para a direita."
      ]
    },
    {
      "cell_type": "markdown",
      "metadata": {
        "id": "PiksFdFTWttt",
        "colab_type": "text"
      },
      "source": [
        "| Símbolo | Significado |\n",
        "|:----:|---|\n",
        "| **and** | **True**, desde que ambos os lados da expressão sejam verdadeiros |\n",
        "| **or**  | **True**, desde que pelo menos um lado da expressão seja verdadeiro |"
      ]
    },
    {
      "cell_type": "code",
      "metadata": {
        "id": "BVPujtKPWttu",
        "colab_type": "code",
        "outputId": "62f15e15-cff5-4d2a-e0df-f34a33805be0",
        "colab": {
          "base_uri": "https://localhost:8080/",
          "height": 34
        }
      },
      "source": [
        "\"a\" < \"b\" and 5 >= 5"
      ],
      "execution_count": 0,
      "outputs": [
        {
          "output_type": "execute_result",
          "data": {
            "text/plain": [
              "True"
            ]
          },
          "metadata": {
            "tags": []
          },
          "execution_count": 15
        }
      ]
    },
    {
      "cell_type": "code",
      "metadata": {
        "id": "FJzI_0c8Wttx",
        "colab_type": "code",
        "outputId": "d5135f1c-ce88-4620-d9ae-ea9e1d1e5ff9",
        "colab": {
          "base_uri": "https://localhost:8080/",
          "height": 34
        }
      },
      "source": [
        "\"a\" <= \"b\" and 5 > 5"
      ],
      "execution_count": 0,
      "outputs": [
        {
          "output_type": "execute_result",
          "data": {
            "text/plain": [
              "False"
            ]
          },
          "metadata": {
            "tags": []
          },
          "execution_count": 16
        }
      ]
    },
    {
      "cell_type": "code",
      "metadata": {
        "id": "Ps-10A4QWtt2",
        "colab_type": "code",
        "outputId": "d4b18188-d08b-4843-ed95-851b97f09fec",
        "colab": {
          "base_uri": "https://localhost:8080/",
          "height": 34
        }
      },
      "source": [
        "\"a\" <= \"b\" or 5 > 5"
      ],
      "execution_count": 0,
      "outputs": [
        {
          "output_type": "execute_result",
          "data": {
            "text/plain": [
              "True"
            ]
          },
          "metadata": {
            "tags": []
          },
          "execution_count": 17
        }
      ]
    },
    {
      "cell_type": "markdown",
      "metadata": {
        "id": "6lx_7NvyWtt4",
        "colab_type": "text"
      },
      "source": [
        "### Exercícios de fixação"
      ]
    },
    {
      "cell_type": "markdown",
      "metadata": {
        "id": "Lzkh0ITuWtt5",
        "colab_type": "text"
      },
      "source": [
        "5 - Leia um gênero e uma idade. Teste se esta combinação representa alguém em situação de obrigatoriedade militar.\n",
        "\n",
        "**Dica --** Em tempos de \"paz\", o serviço militar só é obrigatório para homens maiores de idade."
      ]
    },
    {
      "cell_type": "code",
      "metadata": {
        "id": "K39CkR-NWtt6",
        "colab_type": "code",
        "outputId": "d8d4dcbb-0956-4523-dc5a-24f02222ca9e",
        "colab": {
          "base_uri": "https://localhost:8080/",
          "height": 68
        }
      },
      "source": [
        "genero = input(\"Informe o gênero do candidato: (M) Masculino e (F) Feminino: \")\n",
        "idade = int(input(\"Informe a idade do candidato: \"))\n",
        "\n",
        "genero.upper() == 'M' and idade >= 18:\n",
        "  print('Alistamento militar obrigatório.')\n",
        "else:\n",
        "  print('Alistamento militar não obrigatório.')"
      ],
      "execution_count": 0,
      "outputs": [
        {
          "output_type": "stream",
          "text": [
            "Informe o gênero do candidato: (M) Masculino e (F) Feminino:m\n",
            "Informe a idade do candidato19\n",
            "Alistamento militar obrigatório.\n"
          ],
          "name": "stdout"
        }
      ]
    },
    {
      "cell_type": "markdown",
      "metadata": {
        "id": "Ksls3W0hWtt7",
        "colab_type": "text"
      },
      "source": [
        "6 - Leia uma idade e teste se esta pessoa está obrigada a votar.\n",
        "\n",
        "**Dica --** Estão obrigados a votar pessoas entre 18 e 70 anos de idade."
      ]
    },
    {
      "cell_type": "code",
      "metadata": {
        "id": "qr_VhhZ0Wtt8",
        "colab_type": "code",
        "outputId": "e7dc443b-70f5-4c22-ec0e-790d2826432f",
        "colab": {
          "base_uri": "https://localhost:8080/",
          "height": 51
        }
      },
      "source": [
        "idade = int(input(\"Digite sua idade: \"))\n",
        "\n",
        "if(idade >= 18 and idade <= 70):\n",
        "  print('Voto obrigatório.')\n",
        "else:\n",
        "  print('Voto facultativo.')"
      ],
      "execution_count": 0,
      "outputs": [
        {
          "output_type": "stream",
          "text": [
            "Digite sua idade:45\n",
            "Voto obrigatório.\n"
          ],
          "name": "stdout"
        }
      ]
    },
    {
      "cell_type": "markdown",
      "metadata": {
        "id": "RwUp-7agWtt-",
        "colab_type": "text"
      },
      "source": [
        "7 - Leia uma idade e teste se para esta pessoa o voto é facultativo.\n",
        "\n",
        "**Dica --** O voto é facultativo para pessoas entre 16 e 18 anos ou acima dos 70 anos."
      ]
    },
    {
      "cell_type": "code",
      "metadata": {
        "id": "WO29P3ykWtt_",
        "colab_type": "code",
        "outputId": "add72fb2-a5d4-4860-95f5-e0a0579b4164",
        "colab": {
          "base_uri": "https://localhost:8080/",
          "height": 51
        }
      },
      "source": [
        "idade = int(input(\"Digite sua idade: \"))\n",
        "\n",
        "if(idade <= 18 or idade >= 70):\n",
        "  print('Voto facultativo.')\n",
        "else:\n",
        "  print('Voto obrigatório.')"
      ],
      "execution_count": 0,
      "outputs": [
        {
          "output_type": "stream",
          "text": [
            "Digite sua idade: 85\n",
            "Voto facultativo.\n"
          ],
          "name": "stdout"
        }
      ]
    },
    {
      "cell_type": "markdown",
      "metadata": {
        "id": "N_j0JTvJWtuB",
        "colab_type": "text"
      },
      "source": [
        "8 - Leia três inteiros e teste se o primeiro pertence ao intervalo delimitado pelos dois últimos.\n",
        "\n",
        "**Observação --** Por simplicidade, suponha que os dois últimos números estão ordenados de forma crescente."
      ]
    },
    {
      "cell_type": "code",
      "metadata": {
        "id": "UDBHIEoPWtuB",
        "colab_type": "code",
        "outputId": "b5751d6b-80c0-42a1-cf27-64c6f64e8af7",
        "colab": {
          "base_uri": "https://localhost:8080/",
          "height": 51
        }
      },
      "source": [
        "a = int(input(\"Digite um número: \"))\n",
        "b = 3\n",
        "c = 5\n",
        "\n",
        "a >= b or a <= c"
      ],
      "execution_count": 0,
      "outputs": [
        {
          "output_type": "stream",
          "text": [
            "Digite um número: 4\n"
          ],
          "name": "stdout"
        },
        {
          "output_type": "execute_result",
          "data": {
            "text/plain": [
              "True"
            ]
          },
          "metadata": {
            "tags": []
          },
          "execution_count": 29
        }
      ]
    },
    {
      "cell_type": "markdown",
      "metadata": {
        "id": "MWqe6Uf8WtuD",
        "colab_type": "text"
      },
      "source": [
        "### Estruturas de decisão"
      ]
    },
    {
      "cell_type": "markdown",
      "metadata": {
        "id": "OdUc8GHxWtuE",
        "colab_type": "text"
      },
      "source": [
        "A principal estrutura utilizada em Python para definir se um trecho de um código será executado é a estrutura **if**, ilustrada a seguir:\n",
        "\n",
        "```python\n",
        "if condicao:\n",
        "    expressao\n",
        "    expressao\n",
        "    ...```"
      ]
    },
    {
      "cell_type": "markdown",
      "metadata": {
        "id": "GrBwbUoPWtuE",
        "colab_type": "text"
      },
      "source": [
        "As regras básicas para o uso da estrutura **if** em Python são:\n",
        "\n",
        "* O trecho de código delimitado por uma estrutura **if** é chamado bloco.\n",
        "* Um bloco é caracterizado pela *identação* de suas linhas. Assim, a quantidade de espaços no começo de cada linha é bastante importante no Python.\n",
        "* O bloco de uma estrutura **if** só é executado se sua condição for satisfeita. A condição é avaliada como uma expressão lógica."
      ]
    },
    {
      "cell_type": "code",
      "metadata": {
        "id": "kCWBtQFTWtuF",
        "colab_type": "code",
        "outputId": "845eceea-1492-4942-98d9-bfbefe4d3b1b",
        "colab": {
          "base_uri": "https://localhost:8080/",
          "height": 51
        }
      },
      "source": [
        "numero = int(input())\n",
        "if numero % 2 == 0:\n",
        "    print(\"O número\", numero, \"é par.\")"
      ],
      "execution_count": 0,
      "outputs": [
        {
          "output_type": "stream",
          "text": [
            "8\n",
            "O número 8 é par.\n"
          ],
          "name": "stdout"
        }
      ]
    },
    {
      "cell_type": "markdown",
      "metadata": {
        "id": "qiJBH34gWtuH",
        "colab_type": "text"
      },
      "source": [
        "### Exercícios de fixação"
      ]
    },
    {
      "cell_type": "markdown",
      "metadata": {
        "id": "S3IhnIikWtuH",
        "colab_type": "text"
      },
      "source": [
        "9 - Leia um inteiro e o imprima se ele for múltiplo de 3."
      ]
    },
    {
      "cell_type": "code",
      "metadata": {
        "id": "S38H7eRPWtuI",
        "colab_type": "code",
        "outputId": "7ba27aee-4198-4c85-9966-4588aea7cd6c",
        "colab": {
          "base_uri": "https://localhost:8080/",
          "height": 51
        }
      },
      "source": [
        "numero = int(input())\n",
        "if numero % 3 == 0:\n",
        "  print(\"O número\", numero, \"é multiplo de três.\")"
      ],
      "execution_count": 0,
      "outputs": [
        {
          "output_type": "stream",
          "text": [
            "9\n",
            "O número 9 é multiplo de três.\n"
          ],
          "name": "stdout"
        }
      ]
    },
    {
      "cell_type": "markdown",
      "metadata": {
        "id": "9mFCbdPVWtuL",
        "colab_type": "text"
      },
      "source": [
        "10 - Informe entradas para o código abaixo que façam a mensagem ser impressa."
      ]
    },
    {
      "cell_type": "code",
      "metadata": {
        "id": "eWxgMxvWWtuM",
        "colab_type": "code",
        "outputId": "4401254d-18fb-4920-d7b7-6e6124342ae5",
        "colab": {
          "base_uri": "https://localhost:8080/",
          "height": 68
        }
      },
      "source": [
        "texto = input()\n",
        "numero = int(input())\n",
        "if texto < \"hello\" and numero ** 0.5 == 8:\n",
        "    print(\"Mensagem impressa ;)\")"
      ],
      "execution_count": 0,
      "outputs": [
        {
          "output_type": "stream",
          "text": [
            "gello\n",
            "64\n",
            "Mensagem impressa ;)\n"
          ],
          "name": "stdout"
        }
      ]
    },
    {
      "cell_type": "markdown",
      "metadata": {
        "id": "5WMGrYNiWtuN",
        "colab_type": "text"
      },
      "source": [
        "### A estrutura ```if-else```"
      ]
    },
    {
      "cell_type": "markdown",
      "metadata": {
        "id": "AUwDKcv_WtuO",
        "colab_type": "text"
      },
      "source": [
        "Uma expansão da estrutura **if** é a estrutura **if-else**, que define trechos de código mutuamente exclusivos.\n",
        "\n",
        "```python\n",
        "if condicao:\n",
        "    # bloco se a condição for satisfeita\n",
        "    expressao\n",
        "    ...\n",
        "else:\n",
        "    # bloco se a condição não for satisfeita\n",
        "    expressao\n",
        "    ...\n",
        "```\n",
        "Ambos os blocos de uma estrutura **if-else** devem estar *identados*, de preferência pela mesma quantidade de espaços."
      ]
    },
    {
      "cell_type": "code",
      "metadata": {
        "id": "9e_gq3-AWtuS",
        "colab_type": "code",
        "outputId": "66bec075-5331-48ce-c658-7c887aa4ab51",
        "colab": {
          "base_uri": "https://localhost:8080/",
          "height": 51
        }
      },
      "source": [
        "numero = int(input())\n",
        "if numero % 2 == 0:\n",
        "    print(\"O número\", numero, \"é par.\")\n",
        "else:\n",
        "    print(\"O número\", numero, \"é ímpar.\")"
      ],
      "execution_count": 0,
      "outputs": [
        {
          "output_type": "stream",
          "text": [
            "9\n",
            "O número 9 é ímpar.\n"
          ],
          "name": "stdout"
        }
      ]
    },
    {
      "cell_type": "markdown",
      "metadata": {
        "id": "RJxy63xvWtuU",
        "colab_type": "text"
      },
      "source": [
        "### Exercícios de fixação"
      ]
    },
    {
      "cell_type": "markdown",
      "metadata": {
        "collapsed": true,
        "id": "ROlke9leWtuV",
        "colab_type": "text"
      },
      "source": [
        "11 - Leia um inteiro e informe se ele é ou não múltiplo de 6."
      ]
    },
    {
      "cell_type": "code",
      "metadata": {
        "id": "yZfUpE2lWtuW",
        "colab_type": "code",
        "outputId": "d08475fb-1479-4e07-cbd0-be5b3e10ac94",
        "colab": {
          "base_uri": "https://localhost:8080/",
          "height": 51
        }
      },
      "source": [
        "numero = int(input())\n",
        "if numero % 6 == 0:\n",
        "  print(\"O número {} é multiplo de seis.\".format(numero))\n",
        "else:\n",
        "  print(\"O número {} não é multiplo de seis\".format(numero))"
      ],
      "execution_count": 0,
      "outputs": [
        {
          "output_type": "stream",
          "text": [
            "12\n",
            "O número 12 é multiplo de seis.\n"
          ],
          "name": "stdout"
        }
      ]
    },
    {
      "cell_type": "markdown",
      "metadata": {
        "id": "UkpSvOkvWtuZ",
        "colab_type": "text"
      },
      "source": [
        "12 - Leia dois nomes de pessoas e os imprima em ordem alfabética."
      ]
    },
    {
      "cell_type": "code",
      "metadata": {
        "id": "QxuYLu7LWtuZ",
        "colab_type": "code",
        "outputId": "a0abef12-9e2e-4364-ca65-1a38df981dd1",
        "colab": {
          "base_uri": "https://localhost:8080/",
          "height": 85
        }
      },
      "source": [
        "nome1 = input()\n",
        "nome2 = input()\n",
        "\n",
        "if nome1 < nome2:\n",
        "  print(nome1)\n",
        "  print(nome2)\n",
        "else:\n",
        "  print(nome2)\n",
        "  print(nome1)"
      ],
      "execution_count": 0,
      "outputs": [
        {
          "output_type": "stream",
          "text": [
            "Maria\n",
            "João\n",
            "João\n",
            "Maria\n"
          ],
          "name": "stdout"
        }
      ]
    },
    {
      "cell_type": "markdown",
      "metadata": {
        "id": "1EiWcoJYWtud",
        "colab_type": "text"
      },
      "source": [
        "### A estrutura ```if-elif-else```"
      ]
    },
    {
      "cell_type": "markdown",
      "metadata": {
        "id": "mbdhL4O0Wtue",
        "colab_type": "text"
      },
      "source": [
        "É possível utilizar a estrutura **if-elif-else** para especificar múltiplos fluxos de execução do algoritmo, em função de uma condição principal e de condições alternativas:\n",
        "\n",
        "```python\n",
        "if condicao_principal:\n",
        "    # bloco se a condição principal for satisfeita\n",
        "    expressao\n",
        "    ...\n",
        "elif condicao_alternativa_1:\n",
        "    # bloco se a condição principal não for satisfeita mas a condição alternativa 1 for\n",
        "    expressao\n",
        "    ...\n",
        "elif condicao_alternativa_2:\n",
        "    # bloco se nem a condição principal nem a condição alternativa 1 forem satisfeitas, mas a condição alternativa 2 for\n",
        "    expressao\n",
        "    ...\n",
        "...\n",
        "else:\n",
        "    # bloco se nem a condição principal nem as condições alternativas forem satisfeitas\n",
        "    expressao\n",
        "    ...\n",
        "\n",
        "```"
      ]
    },
    {
      "cell_type": "markdown",
      "metadata": {
        "id": "l3q4jYhHWtue",
        "colab_type": "text"
      },
      "source": [
        "As regras básicas para o uso da estrutura **if-elif-else** em Python são:\n",
        "\n",
        "* O bloco **if** é executado se a condição principal for satisfeita.\n",
        "* Um bloco **elif** é executado se sua condição for satisfeita e as condições acima dele não forem. \n",
        "* O bloco **else** é executado se nenhuma condição for satisfeita.\n"
      ]
    },
    {
      "cell_type": "code",
      "metadata": {
        "id": "_CNAh0uUWtuf",
        "colab_type": "code",
        "colab": {}
      },
      "source": [
        "from random import randint\n",
        "\n",
        "numero = randint(0,100)\n",
        "chute = int(input(\"Chute um número entre 0 e 100: \"))\n",
        "if chute == numero:\n",
        "    print(\"Parabéns, você acertou!\")\n",
        "elif chute < numero:\n",
        "    print(\"Seu chute foi menor que o número sorteado!\")\n",
        "else:\n",
        "    print(\"Seu chute foi maior que o número sorteado!\")"
      ],
      "execution_count": 0,
      "outputs": []
    },
    {
      "cell_type": "markdown",
      "metadata": {
        "id": "WgrrXf4rWtug",
        "colab_type": "text"
      },
      "source": [
        "### Exercícios de fixação"
      ]
    },
    {
      "cell_type": "markdown",
      "metadata": {
        "id": "F5rGEOLAWtuh",
        "colab_type": "text"
      },
      "source": [
        "13 - Leia um número e teste se ele é positivo, negativo ou nulo."
      ]
    },
    {
      "cell_type": "code",
      "metadata": {
        "id": "Lmn4eTBFWtuh",
        "colab_type": "code",
        "outputId": "313b9541-ba53-4a5b-e154-bce50b154d3b",
        "colab": {
          "base_uri": "https://localhost:8080/",
          "height": 51
        }
      },
      "source": [
        "numero = int(input())\n",
        "if numero > 0:\n",
        "  print(\"O número é positivo\")\n",
        "elif numero < 0:\n",
        "  print(\"O número é negativo\")\n",
        "else:\n",
        "  print(\"O número é nulo\")"
      ],
      "execution_count": 0,
      "outputs": [
        {
          "output_type": "stream",
          "text": [
            "0\n",
            "O número é nulo\n"
          ],
          "name": "stdout"
        }
      ]
    },
    {
      "cell_type": "markdown",
      "metadata": {
        "id": "sNpCO2jnWtuj",
        "colab_type": "text"
      },
      "source": [
        "### Combinando múltiplas estruturas de decisão"
      ]
    },
    {
      "cell_type": "markdown",
      "metadata": {
        "id": "l7Gt1KnuWtuj",
        "colab_type": "text"
      },
      "source": [
        "Também é possível combinar estruturas de decisão em múltiplos níveis, o que é conhecido como **aninhar estruturas**.\n",
        "\n",
        "As regras básicas para aninhar estruturas de decisão em Python são:\n",
        "* Não há limite com relação a quantas estruturas e em quantos níveis.\n",
        "* Blocos de níveis mais profundos devem apresentar maior grau de identação. "
      ]
    },
    {
      "cell_type": "code",
      "metadata": {
        "id": "WYJYQtUTWtuk",
        "colab_type": "code",
        "outputId": "77b54d6e-346c-444d-fbd3-c76c9ec0374e",
        "colab": {
          "base_uri": "https://localhost:8080/",
          "height": 34
        }
      },
      "source": [
        "from random import randint\n",
        "\n",
        "numero = randint(0,100)\n",
        "if numero % 6 == 0:\n",
        "    print(\"O número\", numero, \"é múltiplo de 6!\")\n",
        "else:\n",
        "    if numero % 2 == 0:\n",
        "        print(\"O número\", numero, \"é múltiplo de 2, mas não de 3!\")\n",
        "    elif numero % 3 == 0:\n",
        "        print(\"O número\", numero, \"é múltiplo de 3, mas não de 2!\")\n",
        "    else:\n",
        "        print(\"O número\", numero, \"não é multiplo de 2 nem de 3, muito menos de 6!\")"
      ],
      "execution_count": 0,
      "outputs": [
        {
          "output_type": "stream",
          "text": [
            "O número 51 é múltiplo de 3, mas não de 2!\n"
          ],
          "name": "stdout"
        }
      ]
    },
    {
      "cell_type": "markdown",
      "metadata": {
        "collapsed": true,
        "id": "L5_6PKrlWtul",
        "colab_type": "text"
      },
      "source": [
        "## Exercícios do URI"
      ]
    },
    {
      "cell_type": "markdown",
      "metadata": {
        "collapsed": true,
        "id": "THFxSpkcWtum",
        "colab_type": "text"
      },
      "source": [
        "[1037](https://www.urionlinejudge.com.br/judge/pt/problems/view/1037) - Um histograma é um tipo de gráfico estatístico que particiona os dados disponíveis em subgrupos e informa quantos elementos existem em cada subgrupo.\n",
        "\n",
        "Escreva um código Python que possa ser usado para construir um histograma de um conjunto de números inteiros sorteados no intervalo [0,100), isto é, valores maiores ou iguais a 0 e menores que 100. \n",
        "\n",
        "Por simplicidade, considere que apenas um número será sorteado. Você deve identificar a qual dos intervalos a seguir este número pertence: [0,25), [25,50), [50,75), [75,100). "
      ]
    },
    {
      "cell_type": "markdown",
      "metadata": {
        "id": "tpYEbeZBWtum",
        "colab_type": "text"
      },
      "source": [
        "|.| Entrada | Saída |\n",
        "|-|:----:|---|\n",
        "| *Exemplo 1* | 5 | [0,25) | \n",
        "| *Exemplo 2* | 50 | [50,75) |\n",
        "| *Exemplo 3* | 74 | [50,75) |"
      ]
    },
    {
      "cell_type": "code",
      "metadata": {
        "id": "mjxQNCbqWtun",
        "colab_type": "code",
        "outputId": "91bd5e0a-cb82-4f1c-c04d-897f893e2710",
        "colab": {
          "base_uri": "https://localhost:8080/",
          "height": 51
        }
      },
      "source": [
        "numero = int(input())\n",
        "\n",
        "if numero >= 0 and numero < 25:\n",
        "  print(\"[0,25)\")\n",
        "elif numero >= 25 and numero < 50:\n",
        "  print(\"[25,50)\")\n",
        "elif numero >= 50 and numero < 75:\n",
        "  print(\"[50,75)\")"
      ],
      "execution_count": 0,
      "outputs": [
        {
          "output_type": "stream",
          "text": [
            "42\n",
            "[25,50]\n"
          ],
          "name": "stdout"
        }
      ]
    },
    {
      "cell_type": "markdown",
      "metadata": {
        "id": "L6RaasS2Wtup",
        "colab_type": "text"
      },
      "source": [
        "[1049](https://www.urionlinejudge.com.br/judge/pt/problems/view/1049) - Uma árvore de classificação é uma ferramenta usada em diferentes áreas da ciência para ajudar a identificar objetos por suas características.\n",
        "\n",
        "Considerando a árvore de classificação abaixo, escreva um código Python que identifique um animal por suas características. Mais precisamente, seu código deve receber três textos como entrada e informar ao usuário de qual animal se trata.\n",
        "\n",
        "<img src=\"imgs/UOJ_1049_b.png\">"
      ]
    },
    {
      "cell_type": "markdown",
      "metadata": {
        "id": "4a-vb9jaWtux",
        "colab_type": "text"
      },
      "source": [
        "|.| Entrada | Saída |\n",
        "|-|----|---|\n",
        "| *Exemplo 1* | vertebrado<br/>mamifero<br/>onivoro | homem | \n",
        "| *Exemplo 2* | vertebrado<br/>ave<br/>carnivoro | aguia |\n",
        "| *Exemplo 3* | invertebrado<br/>anelideo<br/>onivoro | minhoca |"
      ]
    },
    {
      "cell_type": "code",
      "metadata": {
        "id": "nQeYqu0yWtuy",
        "colab_type": "code",
        "outputId": "c5d13aff-71da-4b9e-d944-caea8e1ed735",
        "colab": {
          "base_uri": "https://localhost:8080/",
          "height": 85
        }
      },
      "source": [
        "a = input(\"Escolha (V) Vertebrado ou (I) Invertebrado: \")\n",
        "b = input(\"Escolha (M) Mamífero ou (A) Ave ou (N) Anelideo: \")\n",
        "c = input(\"Escolha (C) Carnívoro ou (O) Onivoro: \")\n",
        "\n",
        "if a.upper() == \"V\":\n",
        "  if b.upper() == \"M\":\n",
        "    if c.upper() == \"O\":\n",
        "      print(\"homen\")\n",
        "  elif b.upper() == \"A\":\n",
        "    if c.upper() == \"C\":\n",
        "      print(\"aguia\")\n",
        "else:\n",
        " if b.upper() == \"N\":\n",
        "  if c.upper() == \"O\":\n",
        "    print(\"minhoca\")"
      ],
      "execution_count": 0,
      "outputs": [
        {
          "output_type": "stream",
          "text": [
            "Escolha (V) Vertebrado ou (I) Invertebrado: i\n",
            "Escolha (M) Mamífero ou (A) Ave ou (N) Anelideo: n\n",
            "Escolha (C) Carnívoro ou (O) Onivoro: o\n",
            "minhoca\n"
          ],
          "name": "stdout"
        }
      ]
    },
    {
      "cell_type": "markdown",
      "metadata": {
        "id": "L1bs91QaWtu0",
        "colab_type": "text"
      },
      "source": [
        "[1041](https://www.urionlinejudge.com.br/judge/pt/problems/view/1041) - Em sistemas de computação gráfica, compreender diferentes sistemas de coordenadas é fundamental.\n",
        "\n",
        "Considere o sistema de coordenadas cartesiano apresentado na figura abaixo. Ele serve para representar pontos que apresentam duas dimensões, normalmente representados com a notação (x, y), onde x representa a coordenada horizontal e y a vertical.\n",
        "\n",
        "<img src=\"imgs/UOJ_1041.png\">\n",
        "\n",
        "O ponto (0,0) representa a origem dos eixos e é a intersecção entre as quatro subregiões ilustradas na figura abaixo (Q1, Q2, Q3 e Q4, onde Q significa *quadrante*, isto é, uma subregião). Cada quadrante da figura representa pontos com as seguintes características:\n",
        "\n",
        "| Quadrante | Horizontal | Vertical |\n",
        "|:-:|:-:|:-:|\n",
        "| Q1 | x > 0 | y > 0 |\n",
        "| Q2 | x < 0 | y > 0 |\n",
        "| Q3 | x < 0 | y < 0 |\n",
        "| Q4 | x > 0 | y < 0 |\n",
        "\n",
        "Também é possível que um ponto esteja sobre um dos eixos:\n",
        "* Um ponto estará sobre o eixo x se y = 0;\n",
        "* Um ponto estará sobre o eixo y se x = 0.\n",
        "\n",
        "Considerando este contexto, escreva um código Python que leia um ponto (duas coordenadas reais) e informe a primeira condição abaixo que se mostrar verdadeira:\n",
        "* Se o ponto está na \"Origem\";\n",
        "* Se o ponto está sobre o \"Eixo X\";\n",
        "* Se o ponto está sobre o \"Eixo Y\";\n",
        "* Em qual quadrante o ponto está."
      ]
    },
    {
      "cell_type": "markdown",
      "metadata": {
        "id": "AYnvbL87Wtu0",
        "colab_type": "text"
      },
      "source": [
        "|.| Entrada | Saída |\n",
        "|-|:-:|:-:|\n",
        "| *Exemplo 1* | 4.5<br/>-2.2 | Q4 | \n",
        "| *Exemplo 2* | 0.1<br/>0.0 | Eixo X |\n",
        "| *Exemplo 3* | 0.0<br/>0.0 | Origem |"
      ]
    },
    {
      "cell_type": "code",
      "metadata": {
        "id": "gh5oSqazWtu1",
        "colab_type": "code",
        "outputId": "ce2d756e-0ea5-4a50-bf84-1c1308927a45",
        "colab": {
          "base_uri": "https://localhost:8080/",
          "height": 68
        }
      },
      "source": [
        "x = float(input(\"Digite a primeira coordenada: \"))\n",
        "y = float(input(\"Digite a segunda coordenada: \"))\n",
        "\n",
        "if x > 0 and y > 0:\n",
        "  print(\"Q1\")\n",
        "elif x < 0 and y > 0:\n",
        "  print(\"Q2\")\n",
        "elif x < 0 and y < 0:\n",
        "  print(\"Q3\")\n",
        "elif x > 0 and y < 0:\n",
        "  print(\"Q4\")\n",
        "elif x != 0 and y == 0:\n",
        "  print(\"Eixo X\")\n",
        "elif x == 0 and y != 0:\n",
        "  print(\"Eixo Y\")\n",
        "elif y == 0 and y == 0:\n",
        "  print(\"Origem\")"
      ],
      "execution_count": 0,
      "outputs": [
        {
          "output_type": "stream",
          "text": [
            "Digite a primeira coordenada: 4.5\n",
            "Digite a segunda coordenada: -2.2\n",
            "Q4\n"
          ],
          "name": "stdout"
        }
      ]
    },
    {
      "cell_type": "markdown",
      "metadata": {
        "id": "oKiNI5zrWtu4",
        "colab_type": "text"
      },
      "source": [
        "[1051](https://www.urionlinejudge.com.br/judge/pt/problems/view/1051) - Sistemas contábeis e de recursos humanos precisam conhecer bem a legislação tributária do país para calcular os impostos a serem recolhidos mensalmente sobre o salário dos funcionários. \n",
        "\n",
        "Trabalhadores também precisam entender quanto ganham e porque existem descontos em seus contra-cheques.\n",
        "\n",
        "Neste exercício, você vai ajudar empresas e trabalhadores a entender os descontos da previdência social (INSS).\n",
        "\n",
        "A tabela usada para calcular esses descontos é apresentada a seguir."
      ]
    },
    {
      "cell_type": "markdown",
      "metadata": {
        "id": "l-y2a0vAWtu5",
        "colab_type": "text"
      },
      "source": [
        "| Salário de contribuição | Alíquota |\n",
        "|:-:|:-:|\n",
        "| Até 1.693,72 | 8% | \n",
        "| De 1.693,73 a 2.822,90 | 9% |\n",
        "| De 2.822,91 até 5.645,80 | 11% |"
      ]
    },
    {
      "cell_type": "markdown",
      "metadata": {
        "id": "WBcapaZJWtu5",
        "colab_type": "text"
      },
      "source": [
        "Como você pode ver, o desconto sobre o salário depende da faixa salarial na qual um trabalhador se enquadre.\n",
        "\n",
        "Além disso, existe um teto na tabela que determina que pessoas que ganhem a partir de 5.645,81 devem contribuir com 621,04 (11% de 5.645,80).\n",
        "\n",
        "Escreva um código Python que receba um salário bruto (antes do desconto) e informe o valor da contribuição para o INSS e o salário líquido (após o desconto)."
      ]
    },
    {
      "cell_type": "markdown",
      "metadata": {
        "id": "ThpNYTT8Wtu6",
        "colab_type": "text"
      },
      "source": [
        "|.| Entrada | Saída |\n",
        "|-|:-:|-|\n",
        "| *Exemplo 1* | 7456.57 | 621.04 6835.53 | \n",
        "| *Exemplo 2* | 2822.90 | 254.06 2568.84 |\n",
        "| *Exemplo 3* | 1693.73 | 152.44 1541.29 |"
      ]
    },
    {
      "cell_type": "code",
      "metadata": {
        "id": "RgzBP8HvWtu7",
        "colab_type": "code",
        "colab": {
          "base_uri": "https://localhost:8080/",
          "height": 51
        },
        "outputId": "7810aa80-e00f-44e0-807c-ca8347fb26aa"
      },
      "source": [
        "salario_bruto = float(input(\"Digite o salário bruto: \"))\n",
        "\n",
        "if salario_bruto > 0 and salario_bruto <= 1693.72:\n",
        "  desconto = (salario_bruto * 8) / 100\n",
        "\n",
        "elif salario_bruto > 1693.72 and salario_bruto <= 2822.90:\n",
        "  desconto = (salario_bruto * 9) / 100\n",
        "\n",
        "elif salario_bruto > 2822.90 and salario_bruto <= 5645.80:\n",
        "  desconto = (salario_bruto * 11) / 100\n",
        "\n",
        "elif salario_bruto > 5645.80:\n",
        "  desconto = 621.04\n",
        "\n",
        "salario_liquido = salario_bruto - desconto\n",
        "print(desconto,salario_liquido,sep=\" \")"
      ],
      "execution_count": 73,
      "outputs": [
        {
          "output_type": "stream",
          "text": [
            "Digite o salário bruto: 7456.57\n",
            "621.04 6835.53\n"
          ],
          "name": "stdout"
        }
      ]
    },
    {
      "cell_type": "markdown",
      "metadata": {
        "id": "19WmDb9JWtu_",
        "colab_type": "text"
      },
      "source": [
        "Um segundo tipo de dedução mensal que incide sobre os ganhos dos trabalhadores é o *imposto de renda sobre pessoa física* (IRPF).\n",
        "\n",
        "Para o cálculo do IRPF, utiliza-se como base de cálculo o salário bruto descontado da contribuição do INSS. \n",
        "\n",
        "As principais diferenças em relação ao cálculo do INSS são:\n",
        "* Quem possui salário-base até 1.903,98 é isento do pagamento do IRPF.\n",
        "* Não há teto para a contribuição do IRPF.\n",
        "* O valor do IRPF cobrado a uma pessoa é abatido de um valor que varia em função da alíquota correspondente.\n",
        "\n",
        "A tabela usada para o cálculo do IRPF é mostrada abaixo."
      ]
    },
    {
      "cell_type": "markdown",
      "metadata": {
        "id": "ejQsVQQQWtvA",
        "colab_type": "text"
      },
      "source": [
        "| Base de cálculo (R\\$) | Alíquota | Parcela a deduzir |\n",
        "|:-:|:-:|:-:|\n",
        "| Até 1.903,98 | - | - |\n",
        "| De 1.903,99 até 2.826,65 | 7,5% | 142,80 |\n",
        "| De 2.826,66 até 3.751,05 | 15% | 354,80 |\n",
        "| De 3.751,06 até 4.664,68 | 22,5% | 636,13 |\n",
        "| Acima de 4.664,68 | 27,5% | 869,36 |"
      ]
    },
    {
      "cell_type": "markdown",
      "metadata": {
        "id": "CBDko3YVWtvA",
        "colab_type": "text"
      },
      "source": [
        "Para entender melhor o cálculo do IRPF, vamos tomar como exemplo uma pessoa que, descontada a contribuição do INSS, ganha 2.000,00.\n",
        "\n",
        "A alíquota para esta remuneração é de 7,5% e o abatimento de 142,80. Assim, a contribuição do IRPF será de 2.000,00 * 7,5% - 142,80 = 7,20.\n",
        "\n",
        "Escreva um código Python que receba um salário-base (já descontado do INSS) e informe o valor da contribuição do IRPF e o salário líquido (após o desconto do IRPF)."
      ]
    },
    {
      "cell_type": "markdown",
      "metadata": {
        "id": "hech0LhpWtvB",
        "colab_type": "text"
      },
      "source": [
        "|.| Entrada | Saída |\n",
        "|-|:-:|-|\n",
        "| *Exemplo 1* | 6835.53 | 1010.41 5825.12 | \n",
        "| *Exemplo 2* | 2568.84 | 49.86 2518.98 |\n",
        "| *Exemplo 3* | 1541.29 | 0.00 1541.29 |"
      ]
    },
    {
      "cell_type": "code",
      "metadata": {
        "id": "u3jKVTlSWtvB",
        "colab_type": "code",
        "colab": {
          "base_uri": "https://localhost:8080/",
          "height": 51
        },
        "outputId": "f79bd714-df08-4a20-ef23-55092a677d03"
      },
      "source": [
        "salario = float(input(\"Digite o salário: \"))\n",
        "\n",
        "if(salario <= 1903.98):\n",
        "  desconto = 0\n",
        "  \n",
        "elif salario > 1903.99 and salario <= 2826.65:\n",
        "  desconto = ((salario * 7.5) / 100) - 7.2\n",
        "\n",
        "elif salario > 2826.65 and salario <= 3751.05:\n",
        "  desconto = ((salario * 15) / 100) - 354.8\n",
        "\n",
        "elif salario > 3751.05 and salario <= 4664.68:\n",
        "  desconto = ((salario * 22.5) / 100) - 636.13\n",
        "\n",
        "elif salario > 4664.68:\n",
        "  desconto = ((salario * 27.5) / 100) - 869.36\n",
        "\n",
        "salario_liquido = salario - desconto\n",
        "print('{:.2f} {:.2f}'.format(desconto,salario_liquido))"
      ],
      "execution_count": 77,
      "outputs": [
        {
          "output_type": "stream",
          "text": [
            "Digite o salário bruto: 6835.53\n",
            "1010.41 5825.12\n"
          ],
          "name": "stdout"
        }
      ]
    }
  ]
}