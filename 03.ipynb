{
  "nbformat": 4,
  "nbformat_minor": 0,
  "metadata": {
    "colab": {
      "name": "03.ipynb",
      "version": "0.3.2",
      "provenance": [],
      "include_colab_link": true
    },
    "language_info": {
      "codemirror_mode": {
        "name": "ipython",
        "version": 3
      },
      "file_extension": ".py",
      "mimetype": "text/x-python",
      "name": "python",
      "nbconvert_exporter": "python",
      "pygments_lexer": "ipython3",
      "version": "3.6.8"
    },
    "kernelspec": {
      "display_name": "Python 3",
      "language": "python",
      "name": "python3"
    }
  },
  "cells": [
    {
      "cell_type": "markdown",
      "metadata": {
        "id": "view-in-github",
        "colab_type": "text"
      },
      "source": [
        "<a href=\"https://colab.research.google.com/github/luisreisalmeida/PC-01/blob/master/03.ipynb\" target=\"_parent\"><img src=\"https://colab.research.google.com/assets/colab-badge.svg\" alt=\"Open In Colab\"/></a>"
      ]
    },
    {
      "cell_type": "markdown",
      "metadata": {
        "id": "6pINo3GJ19c4",
        "colab_type": "text"
      },
      "source": [
        "<small><small><i>\n",
        "Este notebook foi baseado nos notebooks disponíveis em [https://gitlab.erc.monash.edu.au/andrease/Python4Maths.git]\n",
        "</i></small></small>"
      ]
    },
    {
      "cell_type": "markdown",
      "metadata": {
        "id": "kZfkIZIU19c_",
        "colab_type": "text"
      },
      "source": [
        "# Repetindo sem perder o controle!\n",
        "\n",
        "Python permite que um trecho de código seja executado múltiplas vezes **estruturas de repetição**. \n",
        "\n",
        "Pra não perder o controle do seu código e cair em um loop infinito, estruturas de repetição se baseiam em **condições de parada**.\n",
        "\n",
        "Neste roteiro, você aprenderá a utilizar estes conceitos da linguagem Python.\n",
        "\n",
        "## Estruturas de repetição\n",
        "\n",
        "Muitas vezes, é necessário executar um mesmo trecho de código várias vezes:\n",
        "* Quando um sistema pede uma senha ao usuário, mas ele tem uma certa quantidade de tentativas possívels.\n",
        "* Quando queremos cadastrar múltiplos contatos em uma agenda.\n",
        "* Quando estamos calculando a média de várias avaliações de uma disciplina.\n",
        "\n",
        "Em todas essas situações, precisamos repetir um trecho de código **sem cair em um loop infinito**. Há três situações comuns:\n",
        "* Sabemos quantas vezes queremos executar um código.\n",
        "* Queremos executar um código enquanto uma condição for verdadeira.\n",
        "* Queremos executar um código até que determinada situação aconteça.\n",
        "\n",
        "Python oferece duas estruturas de repetição, que podem ser usadas nas situações descritas acima:"
      ]
    },
    {
      "cell_type": "markdown",
      "metadata": {
        "id": "iZIRSJOl19dD",
        "colab_type": "text"
      },
      "source": [
        "| Estrutura | Significado |\n",
        "|:----:|:--|\n",
        "| ```for``` | Sabemos quantas vezes queremos executar um código.  <br> Queremos iterar sobre os elementos de uma coleção.|\n",
        "| ```while```  | Queremos executar um código até que determinada situação aconteça. <br> Queremos executar um código enquanto uma condição for verdadeira. |"
      ]
    },
    {
      "cell_type": "markdown",
      "metadata": {
        "id": "Uowi0W7s19dH",
        "colab_type": "text"
      },
      "source": [
        "## A estrutura ```for```"
      ]
    },
    {
      "cell_type": "markdown",
      "metadata": {
        "id": "nwFL2kIy19dN",
        "colab_type": "text"
      },
      "source": [
        "Quando sabemos quantas vezes queremos executar um código, a estrutura de repetição ```for``` deve ser nossa escolha:\n",
        "\n",
        "```python\n",
        "for iterador in intervalo:\n",
        "    expressao\n",
        "    expressao\n",
        "    ...\n",
        "```\n",
        "\n",
        "As regras básicas para o uso da estrutura **for** em Python são:\n",
        "\n",
        "* O trecho de código delimitado por uma estrutura **for** é chamado bloco e deve ser identado.\n",
        "* O procedimento **range(inicio, fim)** permite definir um intervalo de valores que a variavel **iterador** pode assumir durante a execução do ```for```. \n",
        "\n",
        "O exemplo abaixo mostra como esta estrutura pode ser usada para que um código seja repetido por 5 vezes:"
      ]
    },
    {
      "cell_type": "code",
      "metadata": {
        "scrolled": true,
        "id": "4Jm2ia-Q19dP",
        "colab_type": "code",
        "outputId": "dd6dcf09-efb1-46d5-f856-0b9fed8dffdf",
        "colab": {
          "base_uri": "https://localhost:8080/",
          "height": 106
        }
      },
      "source": [
        "for i in range(0,5):\n",
        "    print(\"Execução\", i+1)"
      ],
      "execution_count": 0,
      "outputs": [
        {
          "output_type": "stream",
          "text": [
            "Execução 1\n",
            "Execução 2\n",
            "Execução 3\n",
            "Execução 4\n",
            "Execução 5\n"
          ],
          "name": "stdout"
        }
      ]
    },
    {
      "cell_type": "markdown",
      "metadata": {
        "id": "b_tZ1UVp19db",
        "colab_type": "text"
      },
      "source": [
        "Note que a função range define intervalos do tipo **[início, fim)**, isto é, valores maiores ou iguais a **início** e menores que **fim**.\n",
        "\n",
        "Também é possível definir intervalos mais elaborados, criando séries com diferentes crescimentos ou até mesmo decréscimos:"
      ]
    },
    {
      "cell_type": "code",
      "metadata": {
        "scrolled": true,
        "id": "n8tA8j7C19df",
        "colab_type": "code",
        "outputId": "1a1a15a1-d6a7-4191-c8ae-67790fdced11",
        "colab": {
          "base_uri": "https://localhost:8080/",
          "height": 71
        }
      },
      "source": [
        "# Série crescedo de 2 em 2\n",
        "for i in range(0,5,2):\n",
        "    print(\"Valor de i:\", i)"
      ],
      "execution_count": 0,
      "outputs": [
        {
          "output_type": "stream",
          "text": [
            "Valor de i: 0\n",
            "Valor de i: 2\n",
            "Valor de i: 4\n"
          ],
          "name": "stdout"
        }
      ]
    },
    {
      "cell_type": "code",
      "metadata": {
        "scrolled": true,
        "id": "4lc0J6-p19dq",
        "colab_type": "code",
        "outputId": "496285a0-6f2a-4427-8023-b1fda1b5e84e",
        "colab": {
          "base_uri": "https://localhost:8080/",
          "height": 142
        }
      },
      "source": [
        "# Série decrescendo de 5 em 5\n",
        "for i in range(15,-20,-5):\n",
        "    print(\"Valor de i:\", i)"
      ],
      "execution_count": 0,
      "outputs": [
        {
          "output_type": "stream",
          "text": [
            "Valor de i: 15\n",
            "Valor de i: 10\n",
            "Valor de i: 5\n",
            "Valor de i: 0\n",
            "Valor de i: -5\n",
            "Valor de i: -10\n",
            "Valor de i: -15\n"
          ],
          "name": "stdout"
        }
      ]
    },
    {
      "cell_type": "markdown",
      "metadata": {
        "id": "5hTLNs1W19d1",
        "colab_type": "text"
      },
      "source": [
        "### Exercícios de fixação"
      ]
    },
    {
      "cell_type": "markdown",
      "metadata": {
        "id": "WicEpyy119d7",
        "colab_type": "text"
      },
      "source": [
        "1 - Peça ao usuário suas notas das 3 unidades de uma disciplina e calcule sua média."
      ]
    },
    {
      "cell_type": "code",
      "metadata": {
        "id": "Wk99BfJe19d9",
        "colab_type": "code",
        "outputId": "0c0adf5c-3e80-4623-858f-ec1071fb1a61",
        "colab": {
          "base_uri": "https://localhost:8080/",
          "height": 88
        }
      },
      "source": [
        "soma = 0\n",
        "for i in range(1,4):\n",
        "  nota = float(input(\"Digite a {} nota: \".format(i)))\n",
        "  soma += nota\n",
        "\n",
        "media = soma / 3\n",
        "print('{:.2f}'.format(media))"
      ],
      "execution_count": 0,
      "outputs": [
        {
          "output_type": "stream",
          "text": [
            "Digite a 1 nota: 4.5\n",
            "Digite a 2 nota: 5\n",
            "Digite a 3 nota: 6\n",
            "5.17\n"
          ],
          "name": "stdout"
        }
      ]
    },
    {
      "cell_type": "markdown",
      "metadata": {
        "id": "g-eT_emY19eF",
        "colab_type": "text"
      },
      "source": [
        "2 - Solicite ao usuário um inteiro positivo *n* e imprima a soma dos números pares entre 0 e *n*."
      ]
    },
    {
      "cell_type": "code",
      "metadata": {
        "id": "w3809RI719eI",
        "colab_type": "code",
        "outputId": "2d5d19a6-6bae-48ac-9e40-29e1989661b0",
        "colab": {
          "base_uri": "https://localhost:8080/",
          "height": 53
        }
      },
      "source": [
        "n = int(input(\"Digite um número inteiro: \"))\n",
        "soma = 0\n",
        "\n",
        "for i in range(0,n):\n",
        "  if(i % 2 == 0):\n",
        "    soma += i\n",
        "    \n",
        "print(soma)"
      ],
      "execution_count": 0,
      "outputs": [
        {
          "output_type": "stream",
          "text": [
            "Digite um número inteiro: 6\n",
            "6\n"
          ],
          "name": "stdout"
        }
      ]
    },
    {
      "cell_type": "markdown",
      "metadata": {
        "id": "BKzqMqLI19eR",
        "colab_type": "text"
      },
      "source": [
        "3 - Analise os números entre -25 e 50. Se o número for múltiplo de 2, imprima BUS. Se for múltiplo de 3, imprima FEES. Caso seja múltiplo de 2 e de 3 ao mesmo tempo, imprima BUS e FEES."
      ]
    },
    {
      "cell_type": "code",
      "metadata": {
        "id": "FNqBn6Wi19eT",
        "colab_type": "code",
        "outputId": "13f25ef8-3afc-4769-d7a3-2a17ec2554e4",
        "colab": {
          "base_uri": "https://localhost:8080/",
          "height": 910
        }
      },
      "source": [
        "for i in range(-25,51):\n",
        "  if i % 2 == 0 and i % 3 == 0:\n",
        "    print(i,'BUS','FEES')\n",
        "\n",
        "  elif i % 2 == 0:\n",
        "    print(i,'BUS')\n",
        "    \n",
        "  elif i % 3 == 0:\n",
        "    print(i,'FEES')"
      ],
      "execution_count": 0,
      "outputs": [
        {
          "output_type": "stream",
          "text": [
            "-24 BUS FEES\n",
            "-22 BUS\n",
            "-21 FEES\n",
            "-20 BUS\n",
            "-18 BUS FEES\n",
            "-16 BUS\n",
            "-15 FEES\n",
            "-14 BUS\n",
            "-12 BUS FEES\n",
            "-10 BUS\n",
            "-9 FEES\n",
            "-8 BUS\n",
            "-6 BUS FEES\n",
            "-4 BUS\n",
            "-3 FEES\n",
            "-2 BUS\n",
            "0 BUS FEES\n",
            "2 BUS\n",
            "3 FEES\n",
            "4 BUS\n",
            "6 BUS FEES\n",
            "8 BUS\n",
            "9 FEES\n",
            "10 BUS\n",
            "12 BUS FEES\n",
            "14 BUS\n",
            "15 FEES\n",
            "16 BUS\n",
            "18 BUS FEES\n",
            "20 BUS\n",
            "21 FEES\n",
            "22 BUS\n",
            "24 BUS FEES\n",
            "26 BUS\n",
            "27 FEES\n",
            "28 BUS\n",
            "30 BUS FEES\n",
            "32 BUS\n",
            "33 FEES\n",
            "34 BUS\n",
            "36 BUS FEES\n",
            "38 BUS\n",
            "39 FEES\n",
            "40 BUS\n",
            "42 BUS FEES\n",
            "44 BUS\n",
            "45 FEES\n",
            "46 BUS\n",
            "48 BUS FEES\n",
            "50 BUS\n"
          ],
          "name": "stdout"
        }
      ]
    },
    {
      "cell_type": "markdown",
      "metadata": {
        "id": "zG09oy1v19ed",
        "colab_type": "text"
      },
      "source": [
        "4 - Solicite ao usuário um inteiro positivo *n* e calcule o fatorial de *n*."
      ]
    },
    {
      "cell_type": "code",
      "metadata": {
        "id": "cSlUp0NS19eg",
        "colab_type": "code",
        "colab": {
          "base_uri": "https://localhost:8080/",
          "height": 51
        },
        "outputId": "a7d99776-3bd8-41d6-c5bf-c9867d50c827"
      },
      "source": [
        "inteiro = int(input(\"Digite um inteiro positivo: \"))\n",
        "\n",
        "fatorial = 1\n",
        "for i in range (1,inteiro+1):\n",
        "  fatorial = fatorial * i\n",
        "\n",
        "print(\"O fatorial de {} é {}\".format(inteiro,fatorial))"
      ],
      "execution_count": 16,
      "outputs": [
        {
          "output_type": "stream",
          "text": [
            "Digite um inteiro positivo: 6\n",
            "O fatorial de 6 é 720\n"
          ],
          "name": "stdout"
        }
      ]
    },
    {
      "cell_type": "markdown",
      "metadata": {
        "id": "PUpOdkFY19eq",
        "colab_type": "text"
      },
      "source": [
        "## A estrutura ```while```"
      ]
    },
    {
      "cell_type": "markdown",
      "metadata": {
        "id": "qJwit08e19es",
        "colab_type": "text"
      },
      "source": [
        "Quando queremos executar um código enquanto uma condição for verdadeira, a estrutura de repetição ```while``` deve ser nossa escolha:\n",
        "\n",
        "```python\n",
        "while condicao:\n",
        "    expressao\n",
        "    expressao\n",
        "    ...\n",
        "```\n",
        "\n",
        "As regras básicas para o uso da estrutura **while** em Python são:\n",
        "\n",
        "* O trecho de código delimitado por uma estrutura **while** é chamado bloco e deve ser identado.\n",
        "* O bloco delimitado por uma estrutura **while** será executado enquanto a expressão lógica (```condicao```) for verdadeira (```True```).\n",
        "\n",
        "Um exemplo de uso desta estrutura é o caso em que não se sabe quantas vezes será necessário executar um trecho de código:"
      ]
    },
    {
      "cell_type": "code",
      "metadata": {
        "scrolled": true,
        "id": "gwo7dPBm19ev",
        "colab_type": "code",
        "colab": {
          "base_uri": "https://localhost:8080/",
          "height": 68
        },
        "outputId": "c95a649b-36a0-4f1d-e2cf-924a61721949"
      },
      "source": [
        "from random import randint\n",
        "\n",
        "n_multiplos = 0\n",
        "while n_multiplos < 3:\n",
        "    numero = randint(0,30)\n",
        "    if numero % 3 == 0:\n",
        "        n_multiplos += 1\n",
        "        print(\"Múltiplo #\", n_multiplos, \"-\", numero)"
      ],
      "execution_count": 17,
      "outputs": [
        {
          "output_type": "stream",
          "text": [
            "Múltiplo # 1 - 18\n",
            "Múltiplo # 2 - 9\n",
            "Múltiplo # 3 - 3\n"
          ],
          "name": "stdout"
        }
      ]
    },
    {
      "cell_type": "markdown",
      "metadata": {
        "id": "NWGaMsbW19e2",
        "colab_type": "text"
      },
      "source": [
        "Também é possível utilizar a estrutura de repetição ```while``` quando queremos executar um código até que uma determinada situação ocorra:\n",
        "\n",
        "```python\n",
        "while True:\n",
        "    expressao\n",
        "    expressao\n",
        "    ...\n",
        "    if condicao:\n",
        "        break\n",
        "```\n",
        "\n",
        "As regras básicas para o uso da estrutura **while** neste contexto são:\n",
        "\n",
        "* O bloco será executado uma ou mais vezes, até que a condição se torne verdadeira.\n",
        "* O comando **```break```** provoca a interrupção da repetição.\n",
        "\n",
        "O exemplo abaixo mostra como esta estrutura pode ser usada para solicitar uma senha ao usuário até que ele acerte a senha:"
      ]
    },
    {
      "cell_type": "code",
      "metadata": {
        "scrolled": false,
        "id": "V6yoh0ns19e3",
        "colab_type": "code",
        "colab": {
          "base_uri": "https://localhost:8080/",
          "height": 68
        },
        "outputId": "3bbf8a21-6bfd-44d4-9ca0-9053b3500376"
      },
      "source": [
        "senha_correta = \"swordfish\"\n",
        "while True:\n",
        "    senha = input(\"Informe sua senha: \")\n",
        "    if senha == senha_correta:\n",
        "        break\n",
        "    else:\n",
        "        print(\"Senha incorreta!\")"
      ],
      "execution_count": 18,
      "outputs": [
        {
          "output_type": "stream",
          "text": [
            "Informe sua senha: Dracarys\n",
            "Senha incorreta!\n",
            "Informe sua senha: swordfish\n"
          ],
          "name": "stdout"
        }
      ]
    },
    {
      "cell_type": "markdown",
      "metadata": {
        "id": "hhdxCgnA19fB",
        "colab_type": "text"
      },
      "source": [
        "### Exercícios de fixação"
      ]
    },
    {
      "cell_type": "markdown",
      "metadata": {
        "id": "gzyXznSw19fE",
        "colab_type": "text"
      },
      "source": [
        "1 - Sorteie um número entre 0 e 10 e peça ao usuário para tentar adivinhá-lo. Quando o usuário acertar o número, informe quantas tentativas foram necessárias."
      ]
    },
    {
      "cell_type": "code",
      "metadata": {
        "id": "WDthMdnt19fG",
        "colab_type": "code",
        "colab": {
          "base_uri": "https://localhost:8080/",
          "height": 68
        },
        "outputId": "dbfc90a1-02a0-4add-fa68-8e0a6600929e"
      },
      "source": [
        "numero_secreto = randint(0,10)\n",
        "n_chutes = 0\n",
        "while True:\n",
        "  chute = int(input(\"Chute um número: \"))\n",
        "  n_chutes += 1\n",
        "  if chute == numero_secreto:\n",
        "    break\n",
        "\n",
        "print(\"Vc acertou! Tentativas {}\".format(n_chutes))"
      ],
      "execution_count": 20,
      "outputs": [
        {
          "output_type": "stream",
          "text": [
            "Chute um número: 1\n",
            "Chute um número: 2\n",
            "Vc acertou! Tentativas 2\n"
          ],
          "name": "stdout"
        }
      ]
    },
    {
      "cell_type": "markdown",
      "metadata": {
        "id": "RWdKSAnd19fP",
        "colab_type": "text"
      },
      "source": [
        "### Pulando parte do código\n",
        "\n",
        "É possível evitar que parte do código seja executada durante uma repetição utilizando o comando ```continue```.\n"
      ]
    },
    {
      "cell_type": "code",
      "metadata": {
        "scrolled": true,
        "id": "yCH9grFX19fR",
        "colab_type": "code",
        "colab": {
          "base_uri": "https://localhost:8080/",
          "height": 170
        },
        "outputId": "6c1a6d69-fbc4-4c84-a4bf-e474e86d9f74"
      },
      "source": [
        "soma = 0\n",
        "for i in range(10):\n",
        "    if i == 3:\n",
        "        continue\n",
        "    print(i)"
      ],
      "execution_count": 21,
      "outputs": [
        {
          "output_type": "stream",
          "text": [
            "0\n",
            "1\n",
            "2\n",
            "4\n",
            "5\n",
            "6\n",
            "7\n",
            "8\n",
            "9\n"
          ],
          "name": "stdout"
        }
      ]
    },
    {
      "cell_type": "markdown",
      "metadata": {
        "id": "InjU78iu19fZ",
        "colab_type": "text"
      },
      "source": [
        "### Exercícios de fixação"
      ]
    },
    {
      "cell_type": "markdown",
      "metadata": {
        "id": "8ztU3a3b19fa",
        "colab_type": "text"
      },
      "source": [
        "1 - Imprima os números partes entre 0 e 50, pulando os números múltiplos de 4. Use o comando ```continue```."
      ]
    },
    {
      "cell_type": "code",
      "metadata": {
        "id": "z_BbwIsL19fd",
        "colab_type": "code",
        "colab": {
          "base_uri": "https://localhost:8080/",
          "height": 238
        },
        "outputId": "25dc0bca-ea61-4c88-ac79-0f6c6d2998a8"
      },
      "source": [
        "for i in range(0,51):\n",
        "  if i % 2 == 0:\n",
        "    if i % 4 == 0:\n",
        "      continue\n",
        "    else:\n",
        "      print(i)"
      ],
      "execution_count": 22,
      "outputs": [
        {
          "output_type": "stream",
          "text": [
            "2\n",
            "6\n",
            "10\n",
            "14\n",
            "18\n",
            "22\n",
            "26\n",
            "30\n",
            "34\n",
            "38\n",
            "42\n",
            "46\n",
            "50\n"
          ],
          "name": "stdout"
        }
      ]
    },
    {
      "cell_type": "markdown",
      "metadata": {
        "id": "J7ckVAZz19fm",
        "colab_type": "text"
      },
      "source": [
        "## Combinando múltiplas estruturas de repetição"
      ]
    },
    {
      "cell_type": "markdown",
      "metadata": {
        "id": "52qmH7ld19fo",
        "colab_type": "text"
      },
      "source": [
        "Assim como vimos para estruturas de decisão, também podemos combinar estruturas de repetição em múltiplos níveis. \n",
        "\n",
        "As regras básicas para **aninhar estruturas de repetição** em Python são:\n",
        "* Não há limite com relação a quantas estruturas e em quantos níveis.\n",
        "* Blocos de níveis mais profundos devem apresentar maior grau de identação.\n",
        "* Os efeitos dos comandos ```break``` e ```continue``` se limitam ao nível atual.\n",
        "\n",
        "O exemplo abaixo mostra como imprimir uma matriz identidade. Note que a função ```print``` pode ser usada para imprimir várias vezes em uma mesma linha, utilizando pra isso a opção ```end```."
      ]
    },
    {
      "cell_type": "code",
      "metadata": {
        "id": "mbE2qTRP19fr",
        "colab_type": "code",
        "colab": {
          "base_uri": "https://localhost:8080/",
          "height": 68
        },
        "outputId": "c2d7281b-8c13-4877-8834-4dd91c7c2fb2"
      },
      "source": [
        "for i in range(3):\n",
        "    for j in range(3):\n",
        "        if i == j:\n",
        "            print(\" 1 \", end='')\n",
        "        else:\n",
        "            print(\" 0 \", end='')\n",
        "    print()"
      ],
      "execution_count": 23,
      "outputs": [
        {
          "output_type": "stream",
          "text": [
            " 1  0  0 \n",
            " 0  1  0 \n",
            " 0  0  1 \n"
          ],
          "name": "stdout"
        }
      ]
    },
    {
      "cell_type": "markdown",
      "metadata": {
        "collapsed": true,
        "id": "7MtvyVo-19f1",
        "colab_type": "text"
      },
      "source": [
        "## Exercícios do URI"
      ]
    },
    {
      "cell_type": "markdown",
      "metadata": {
        "collapsed": true,
        "id": "R6_VcaPk19f4",
        "colab_type": "text"
      },
      "source": [
        "[1080](https://www.urionlinejudge.com.br/judge/pt/problems/view/1080) - Calcular estatísticas é uma importante tarefa dos sistema de computação que trabalham com análise de dados. Em um roteiro anterior, você implementou uma função para uso em histogramas, que informava a qual intervalo um elemento pertencia.\n",
        "\n",
        "Neste exercício, você vai voltar pro mundo real e de fato preparar um histograma dos dados (colher de chá: não precisa gerar o gráfico no final).\n",
        "\n",
        "Escreva um código Python que receba um inteiro informando quantos números no intervalo \\[0,100\\) serão informados a seguir. Considerando 5 subintervalos de igual tamanho, seu programa deverá calcular a frequência de elementos presentes em cada subintervalo.\n",
        "\n",
        "Por fim, seu programa deverá informar os elementos máximo e mínimo encontrados nos dados, e suas posições na sequência dos dados de entrada."
      ]
    },
    {
      "cell_type": "markdown",
      "metadata": {
        "id": "EpAbff4i19gC",
        "colab_type": "text"
      },
      "source": [
        "|.| Entrada | Saída |\n",
        "|-|:----:|---|\n",
        "| *Exemplo 1* | 5<br/>100<br/>40<br/>32<br/>87<br/>90 | \\[0,20\\) - 1 <br/> \\[20,40\\) - 1 <br/> \\[40,60\\) - 1 <br/> \\[60,80\\) - 0 <br/> \\[80,100\\) - 3  <br/> Máximo: 100 (0) <br/> Mínimo: 32 (2) | \n",
        "| *Exemplo 2* | 3<br/>12<br/>29<br/>45 | \\[0,20\\) - 1 <br/> \\[20,40\\) - 1 <br/> \\[40,60\\) - 1 <br/> \\[60,80\\) - 0 <br/> \\[80,100\\) - 0  <br/> Máximo: 45 (2) <br/> Mínimo: 12 (0) | \n",
        "| *Exemplo 3* | 7<br/>13<br/>88<br/>45<br/>63<br/>94<br/>27<br/>5 | \\[0,20\\) - 1 <br/> \\[20,40\\) - 1 <br/> \\[40,60\\) - 1 <br/> \\[60,80\\) - 1 <br/> \\[80,100\\) - 2  <br/> Máximo: 94 (4) <br/> Mínimo: 5 (6) | \n"
      ]
    },
    {
      "cell_type": "code",
      "metadata": {
        "id": "7drlnBSFzpd0",
        "colab_type": "code",
        "colab": {
          "base_uri": "https://localhost:8080/",
          "height": 204
        },
        "outputId": "2ad15019-cac2-4208-d5a8-cebcb4914cf7"
      },
      "source": [
        "qtd = int(input())\n",
        "\n",
        "maximo = 0\n",
        "posicao_max = 0\n",
        "minimo = 100\n",
        "posicao_min = 0\n",
        "z_v = 0\n",
        "v_q = 0\n",
        "q_s = 0\n",
        "s_o = 0\n",
        "o_c = 0\n",
        "\n",
        "for i in range(qtd):\n",
        "  numero = int(input())\n",
        "\n",
        "  if numero >= 0 and numero < 20:\n",
        "    z_v += 1\n",
        "  elif numero >= 20 and numero < 40:\n",
        "    v_q += 1\n",
        "  elif numero >= 40 and numero < 60:\n",
        "    q_s += 1\n",
        "  elif numero >= 60 and numero < 80:\n",
        "    s_o += 1\n",
        "  elif numero >= 80 and numero < 100:\n",
        "    o_c += 1\n",
        "\n",
        "  if numero > maximo:\n",
        "    maximo = numero\n",
        "    posicao_max = i\n",
        "\n",
        "  if numero < minimo:\n",
        "    minimo = numero\n",
        "    posicao_min = i\n",
        "    \n",
        "print(\"\"\"[0,20] - {}\n",
        "[20,40] - {}\n",
        "[40,60] - {}\n",
        "[60,80] - {}\n",
        "[80,100] - {}\n",
        "Máximo: {}({})\n",
        "Mínimo: {}({})\"\"\".format(z_v, v_q, q_s, s_o, o_c, maximo, posicao_max, minimo, posicao_min))"
      ],
      "execution_count": 30,
      "outputs": [
        {
          "output_type": "stream",
          "text": [
            "3\n",
            "12\n",
            "29\n",
            "45\n",
            "[0,20] - 1\n",
            "[20,40] - 1\n",
            "[40,60] - 1\n",
            "[60,80] - 0\n",
            "[80,100] - 0\n",
            "Máximo: 45(2)\n",
            "Mínimo: 12(0)\n"
          ],
          "name": "stdout"
        }
      ]
    },
    {
      "cell_type": "markdown",
      "metadata": {
        "collapsed": true,
        "id": "XSLhZLl919gF",
        "colab_type": "text"
      },
      "source": [
        "[1164](https://www.urionlinejudge.com.br/judge/pt/problems/view/1164) - Um número **perfeito** é um número igual à soma dos seus divisores (exceto ele mesmo).\n",
        "\n",
        "O número 28 é um exemplo de número perfeito: 28 = 1 + 2 + 4 + 7 + 14.\n",
        "\n",
        "[1165](https://www.urionlinejudge.com.br/judge/pt/problems/view/1165) - Um número **primo** é um número que só pode ser dividido por 1 e por ele mesmo. \n",
        "\n",
        "O número 17, por exemplo, só pode ser dividido por 1 e por 17.\n",
        "\n",
        "Escreva um código Python que receba um inteiro N e imprima os números do intervalo [1,N] que são primos ou perfeitos."
      ]
    },
    {
      "cell_type": "markdown",
      "metadata": {
        "collapsed": true,
        "id": "SMMi5aj319gG",
        "colab_type": "text"
      },
      "source": [
        "|.| Entrada | Saída |\n",
        "|-|:-:|:-|\n",
        "| *Exemplo 1* | 10 | 1 2 3 5 6 7 10 | \n",
        "| *Exemplo 2* | 15 | 1 2 3 5 6 7 10 11 13 |\n",
        "| *Exemplo 3* | 20 | 1 2 3 5 6 7 10 11 13 17 19 |"
      ]
    },
    {
      "cell_type": "code",
      "metadata": {
        "id": "zbHNJzro19gI",
        "colab_type": "code",
        "colab": {
          "base_uri": "https://localhost:8080/",
          "height": 204
        },
        "outputId": "34366446-372d-467e-a3d3-21c2ff2252a2"
      },
      "source": [
        "numero = int(input())\n",
        "\n",
        "for i in range(1,numero+1):\n",
        "  primos = 0\n",
        "  for j in range(i,0,-1):\n",
        "    if i % j == 0:\n",
        "      primos += 1\n",
        "\n",
        "  if(primos == 2 or i == 1):\n",
        "    print(i)\n",
        "  else:\n",
        "    perfeitos = 0\n",
        "    for l in range(i-1,0,-1):\n",
        "      if (i % l == 0):\n",
        "        perfeitos += l\n",
        "    if(perfeitos == i):\n",
        "      print(i)\n",
        "    \n",
        "    \n",
        " ##Correção do exemplo do exercício, o número 10 não é primo nem perfeito.\n"
      ],
      "execution_count": 53,
      "outputs": [
        {
          "output_type": "stream",
          "text": [
            "19\n",
            "1\n",
            "2\n",
            "3\n",
            "5\n",
            "6\n",
            "7\n",
            "11\n",
            "13\n",
            "17\n",
            "19\n"
          ],
          "name": "stdout"
        }
      ]
    },
    {
      "cell_type": "markdown",
      "metadata": {
        "collapsed": true,
        "id": "DnA_VbIj19gP",
        "colab_type": "text"
      },
      "source": [
        "[1789](https://www.urionlinejudge.com.br/judge/pt/problems/view/1789) - Jogos de corrida utilizam simulações baseadas nas regras da física para trazer realismo à experiência do usuário.\n",
        "\n",
        "Neste exercício, você deve simular uma das regras mais simples da mecânica clássica, que mostra que a distância percorrida por um objeto é proporcional à sua velocidade.\n",
        "\n",
        "Neste jogo serão 3 corredores, cada um com uma velocidade dada por um número real sorteado no intervalo [0,100) m/s.\n",
        "\n",
        "Considere que todos os competidores partem do mesmo lugar e apresente a posição de cada corredor atualizada segundo a segundo.\n",
        "\n",
        "Considere ainda que a linha de chegada está a 482m de distância do ponto de partida e encerre a corrida quando o vencedor cruzar a linha, identificando o vencedor.\n",
        "\n",
        "** Dica --** Para gerar um número real aleatório no intervalo [0,100), utilize a função ```uniform(0,100)```."
      ]
    },
    {
      "cell_type": "markdown",
      "metadata": {
        "collapsed": true,
        "id": "LvLrFhhf19gR",
        "colab_type": "text"
      },
      "source": [
        "|.| Velocidades | Saída |\n",
        "|-|:-:|:-|\n",
        "| *Exemplo 1* | 15.38<br/>55.49<br/>48.65  | 15.38 55.49 48.65 <br/> 30.76 110.98 97.30 <br/> 46.14 166.47 145.95 <br/> 61.52 221.96 194.60 <br/> 76.90 277.45 243.25 <br/> 92.28 332.94 291.90 <br/> 107.66 388.43 340.55 <br/> 123.04 443.92 389.20 <br/> 138.42 499.41 437.85 <br/> P2 | \n",
        "| *Exemplo 2* | 42.27<br/>95.26<br/>72.25 | 42.27 95.26 72.25 <br/> 84.54 190.52 144.50 <br/> 126.81 285.78 216.75 <br/> 169.08 381.04 289.00 <br/> 211.35 476.30 361.25 <br/> 253.62 571.56 433.50 <br/> P2 |\n",
        "| *Exemplo 3* | 98.76<br/>93.21<br/>96.65 | 98.76 93.21 96.65 <br/> 197.52 186.42 193.30 <br/> 296.28 279.63 289.95 <br/> 395.04 372.84 386.60 <br/> 493.80 466.05 483.25 <br/> P1 |"
      ]
    },
    {
      "cell_type": "code",
      "metadata": {
        "id": "LKMvqtzE19gS",
        "colab_type": "code",
        "colab": {
          "base_uri": "https://localhost:8080/",
          "height": 136
        },
        "outputId": "b22c9206-624a-4418-c06c-bee7191274d2"
      },
      "source": [
        "from random import uniform\n",
        "v1 = uniform(0, 100)\n",
        "v2 = uniform(0, 100)\n",
        "v3 = uniform(0, 100)\n",
        "p1 = 0\n",
        "p2 = 0\n",
        "p3 = 0\n",
        "while True:\n",
        "  p1 += v1\n",
        "  p2 += v2\n",
        "  p3 += v3\n",
        "  print('{:.2f} {:.2f} {:.2f}'.format(p1, p2, p3))\n",
        "  if p1 >= 482 or p2 >= 482 or p3 >= 482:\n",
        "    if(p1 > p2):\n",
        "      if(p1 > p3):\n",
        "        print('P1')\n",
        "      else:\n",
        "        print('P3')\n",
        "    else:\n",
        "      if(p2 > p3):\n",
        "        print('P2')\n",
        "      else:\n",
        "        print('P3')\n",
        "    break"
      ],
      "execution_count": 64,
      "outputs": [
        {
          "output_type": "stream",
          "text": [
            "53.01 95.66 44.45\n",
            "106.02 191.32 88.89\n",
            "159.02 286.98 133.34\n",
            "212.03 382.64 177.79\n",
            "265.04 478.30 222.24\n",
            "318.05 573.96 266.68\n",
            "P2\n"
          ],
          "name": "stdout"
        }
      ]
    },
    {
      "cell_type": "markdown",
      "metadata": {
        "collapsed": true,
        "id": "2DoBCHkt19gZ",
        "colab_type": "text"
      },
      "source": [
        "[1828](https://www.urionlinejudge.com.br/judge/pt/problems/view/1828) - Pedra, paper e tesoura, ou じゃんけんぽん (jankenpon), é um jogo simples que envolve apenas quatro regras:\n",
        "\n",
        "- Dois jogadores disputam entre si, podendo escolher entre 3 opções de ação: pedra, papel ou tesoura.\n",
        "- A pedra quebra a tesoura.\n",
        "- A tesoura corta o papel.\n",
        "- O papel embrulha a pedra.\n",
        "\n",
        "Também é possível que não haja um vencedor, quando os dois jogadores escolhem a mesma ação.\n",
        "\n",
        "Escreva um código Python que receba um inteiro informando número de rodadas de uma partida e simule dois jogadores competindo entre si. Você deve imprimir as ações e o vencedor de cada rodada, bem como o vencedor da partida."
      ]
    },
    {
      "cell_type": "markdown",
      "metadata": {
        "id": "y_Fy82Kh19gb",
        "colab_type": "text"
      },
      "source": [
        "|.| Entrada | Saída |\n",
        "|-|:-:|:-|\n",
        "| *Exemplo 1* | 3  | Jogador 2 <br/> Empate <br/> Jogador 2 <br/> Placar final: 0 x 2 <br/> Partida vencida pelo Jogador 2! | \n",
        "| *Exemplo 2* | 5 | Jogador 1 <br/> Jogador 1 <br/> Empate <br/> Empate <br/> Jogador 1 <br/> Placar final: 3 x 0 <br/> Partida vencida pelo Jogador 1! |\n",
        "| *Exemplo 3* | 4 | Empate <br/> Jogador 2 <br/> Empate <br/> Empate <br/> Placar final: 0 x 1 <br/> Partida vencida pelo Jogador 2! |"
      ]
    },
    {
      "cell_type": "code",
      "metadata": {
        "id": "HyxyeKm719gc",
        "colab_type": "code",
        "colab": {
          "base_uri": "https://localhost:8080/",
          "height": 153
        },
        "outputId": "d8413c2f-4065-4762-e682-f5d8db385e5c"
      },
      "source": [
        "rodadas = int(input())\n",
        "placar1 = 0\n",
        "placar2 = 0\n",
        "\n",
        "# 1 - Pedra, 2 - Papel, 3 - Tesoura\n",
        "\n",
        "for i in range(rodadas):\n",
        "  jogador1 = randint(1,3)\n",
        "  jogador2 = randint(1,3)\n",
        "\n",
        "  if(jogador1 == jogador2):\n",
        "    print(\"Empate\")\n",
        "  elif jogador1 == 1 and jogador2 == 2:\n",
        "    print('Jogador2')\n",
        "    placar2 += 1\n",
        "  elif jogador1 == 1 and jogador2 == 3:\n",
        "    print('Jogador1')\n",
        "    placar1 += 1\n",
        "  elif jogador1 == 2 and jogador2 == 1:\n",
        "    print('Jogador1')\n",
        "    placar1 += 1\n",
        "  elif jogador1 == 2 and jogador2 == 3:\n",
        "    print('Jogador2')\n",
        "    placar2 += 1\n",
        "  elif jogador1 == 3 and jogador2 == 1:\n",
        "    print('Jogador2')\n",
        "    placar2 += 1\n",
        "  elif jogador1 == 3 and jogador2 == 2:\n",
        "    print('Jogador1')\n",
        "    placar1 += 1\n",
        "\n",
        "if(placar1 > placar2):\n",
        "  vencedor = 'Partida vencida pelo Jogador1!'\n",
        "elif(placar1 < placar2):\n",
        "  vencedor = 'Partida vencida pelo Jogador2!'\n",
        "else:\n",
        "  vencedor = 'Empate!'\n",
        "print(\"\"\"Placar final {} x {}\n",
        "{}\"\"\".format(placar1,placar2,vencedor))"
      ],
      "execution_count": 78,
      "outputs": [
        {
          "output_type": "stream",
          "text": [
            "5\n",
            "Jogador1\n",
            "Empate\n",
            "Empate\n",
            "Jogador1\n",
            "Jogador2\n",
            "Placar final 2 x 1\n",
            "Partida vencida pelo Jogador1!\n"
          ],
          "name": "stdout"
        }
      ]
    },
    {
      "cell_type": "markdown",
      "metadata": {
        "id": "ja8OsZOV19gi",
        "colab_type": "text"
      },
      "source": [
        "Agora que você já sabe até como criar um jogo de jonkenpon, implemente uma versão em que você pode jogar contra o computador e mostre que você pode derrotá-lo :D"
      ]
    },
    {
      "cell_type": "code",
      "metadata": {
        "id": "KF9P2P8f19gk",
        "colab_type": "code",
        "colab": {
          "base_uri": "https://localhost:8080/",
          "height": 238
        },
        "outputId": "f4624057-221c-4fe7-c4a9-4786e16fc21f"
      },
      "source": [
        "rodadas = int(input())\n",
        "placar1 = 0\n",
        "placar2 = 0\n",
        "\n",
        "# 1 - Pedra, 2 - Papel, 3 - Tesoura\n",
        "\n",
        "for i in range(rodadas):\n",
        "  jogador = int(input())\n",
        "  computador = randint(1,3)\n",
        "\n",
        "  if(jogador == computador):\n",
        "    print(\"Empate\")\n",
        "  elif jogador == 1 and computador == 2:\n",
        "    print('Computador')\n",
        "    placar2 += 1\n",
        "  elif jogador == 1 and computador == 3:\n",
        "    print('Jogador')\n",
        "    placar1 += 1\n",
        "  elif jogador == 2 and computador == 1:\n",
        "    print('Jogador')\n",
        "    placar1 += 1\n",
        "  elif jogador == 2 and computador == 3:\n",
        "    print('Computador')\n",
        "    placar2 += 1\n",
        "  elif jogador == 3 and computador == 1:\n",
        "    print('Computador')\n",
        "    placar2 += 1\n",
        "  elif jogador == 3 and computador == 2:\n",
        "    print('Jogador')\n",
        "    placar1 += 1\n",
        "\n",
        "if(placar1 > placar2):\n",
        "  vencedor = 'Partida vencida pelo Jogador!'\n",
        "elif(placar1 < placar2):\n",
        "  vencedor = 'Partida vencida pelo Computador!'\n",
        "else:\n",
        "  vencedor = 'Empate!'\n",
        "print(\"\"\"Placar final {} x {}\n",
        "{}\"\"\".format(placar1, placar2, vencedor))"
      ],
      "execution_count": 79,
      "outputs": [
        {
          "output_type": "stream",
          "text": [
            "5\n",
            "2\n",
            "Empate\n",
            "2\n",
            "Jogador\n",
            "2\n",
            "Jogador\n",
            "2\n",
            "Computador\n",
            "2\n",
            "Jogador\n",
            "Placar final 3 x 1\n",
            "Partida vencida pelo Jogador!\n"
          ],
          "name": "stdout"
        }
      ]
    },
    {
      "cell_type": "markdown",
      "metadata": {
        "id": "13r0pHMT19gv",
        "colab_type": "text"
      },
      "source": [
        "[Blackjack](https://pt.wikipedia.org/wiki/Blackjack) - Vinte-e-um (21) é um dos mais icônicos jogos de cartas, onde um jogador real compete contra um jogador imaginário (a banca) para ver quem consegue o jogo de maior valor sem estourar o limite de 21 pontos.\n",
        "\n",
        "Por simplicidade, considere apenas as seguintes regras:\n",
        "- Cada jogador pode pedir uma carta por rodada ou dizer que quer parar de pedir.\n",
        "- O jogador que acumular mais de 21 pontos perde a partida.\n",
        "- Se o jogador e a banca atingirem o mesmo número de pontos, a partida termina empatada.\n",
        "- As cartas numéricas valem o número de pontos que elas indicam (ex: 2 vale 2, 10 vale 10).\n",
        "- As cartas de figuras (rei, valete e dama) valem 10 pontos.\n",
        "- O Ás vale 11 pontos.\n",
        "\n",
        "Escreva um código Python que te permite jogar blackjack contra o computador, escrevendo a cada rodada o valor do jogo de cada jogador e, ao final, o vencedor da partida."
      ]
    },
    {
      "cell_type": "code",
      "metadata": {
        "id": "lHcI78VU19gx",
        "colab_type": "code",
        "colab": {
          "base_uri": "https://localhost:8080/",
          "height": 204
        },
        "outputId": "6cb2002f-f418-4973-ea3e-9e65ab4ff405"
      },
      "source": [
        "mao_jogador = 0\n",
        "mao_computador = 0\n",
        "while True:\n",
        "  carta_jogador = randint(1,11)\n",
        "  carta_computador = randint(1,11)\n",
        "  \n",
        "  mao_jogador += carta_jogador\n",
        "  mao_computador += carta_computador\n",
        "\n",
        "  print(\"Mão do jogador: \",mao_jogador)\n",
        "  #print(\"Mão do computador: \",mao_computador)\n",
        "  \n",
        "  if mao_jogador == 21:\n",
        "    print(\"Jogador venceu!\")\n",
        "    print(\"Mão Jogador: {} - Mão Computador {}\".format(mao_jogador, mao_computador))\n",
        "    break\n",
        "  elif mao_jogador > 21:\n",
        "    print(\"Computador venceu!\")\n",
        "    print(\"Mão Jogador: {} - Mão Computador {}\".format(mao_jogador, mao_computador))\n",
        "    break\n",
        "\n",
        "  continuar = input(\"Deseja continuar SIM(S) NÃO(N): \")\n",
        "  \n",
        "  if continuar.lower() == 'n':\n",
        "    if mao_computador == 21:\n",
        "      print(\"Computador venceu!\")\n",
        "      print(\"Mão Jogador: {} - Mão Computador {}\".format(mao_jogador, mao_computador))\n",
        "    elif mao_computador > 21:\n",
        "      print(\"Jogador venceu!\")\n",
        "      print(\"Mão Jogador: {} - Mão Computador {}\".format(mao_jogador, mao_computador))\n",
        "    elif mao_jogador > mao_computador:\n",
        "      print(\"Jogador venceu!\")\n",
        "      print(\"Mão Jogador: {} - Mão Computador {}\".format(mao_jogador, mao_computador))\n",
        "    elif mao_jogador < mao_computador:\n",
        "      print(\"Computador venceu!\")\n",
        "      print(\"Mão Jogador: {} - Mão Computador {}\".format(mao_jogador, mao_computador))\n",
        "    break\n",
        "    \n",
        "    ##Diferente do que pede no enunciado eu ocultei a \"mão do computador\" para que o jogo \n",
        "    ##fique mais emocionante kk :) , mas a linha para mostrá-la está lá como pede \n",
        "    ##no exercício, apenas está comentada.\n",
        "    "
      ],
      "execution_count": 116,
      "outputs": [
        {
          "output_type": "stream",
          "text": [
            "Mão do jogador:  9\n",
            "Deseja continuar SIM(S) NÃO(N): s\n",
            "Mão do jogador:  13\n",
            "Deseja continuar SIM(S) NÃO(N): s\n",
            "Mão do jogador:  14\n",
            "Deseja continuar SIM(S) NÃO(N): s\n",
            "Mão do jogador:  15\n",
            "Deseja continuar SIM(S) NÃO(N): s\n",
            "Mão do jogador:  22\n",
            "Computador venceu!\n",
            "Mão Jogador: 22 - Mão Computador 20\n"
          ],
          "name": "stdout"
        }
      ]
    }
  ]
}